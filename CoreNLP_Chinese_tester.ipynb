{
 "cells": [
  {
   "cell_type": "code",
   "execution_count": null,
   "metadata": {},
   "outputs": [],
   "source": [
    "\"\"\"\n",
    "安裝及使用教學： https://github.com/nltk/nltk/wiki/Stanford-CoreNLP-API-in-NLTK\n",
    "\n",
    "安裝CoreNLP，總共要下載3個檔案\n",
    "1. stanford-corenlp-full-2018-10-05\n",
    "2. stanford-chinese-corenlp-2018-10-05-models\n",
    "3. StanfordCoreNLP-chinese.properties\n",
    "\n",
    "前兩個檔案下載網址 https://stanfordnlp.github.io/CoreNLP/\n",
    "第三個檔案下載網址 https://raw.githubusercontent.com/stanfordnlp/CoreNLP/master/src/edu/stanford/nlp/pipeline/StanfordCoreNLP-chinese.properties\n",
    "\n",
    "注意：要先把第一個檔案解壓縮之後，再把另外兩個檔案放到同一個資料夾\n",
    "\"\"\"\n",
    "\n",
    "\"\"\"\n",
    "在進入python使用CoreNLP套件之前\n",
    "1. change path to stanford-corenlp-full-2018-10-05 directory\n",
    "2. start server: \n",
    "    java -mx4g -cp \"*\" edu.stanford.nlp.pipeline.StanfordCoreNLPServer \\\n",
    "    -preload tokenize,ssplit,pos,lemma,ner,parse,depparse \\\n",
    "    -status_port 9000 -port 9000 -timeout 1500000 & \n",
    "\"\"\""
   ]
  },
  {
   "cell_type": "code",
   "execution_count": 4,
   "metadata": {},
   "outputs": [],
   "source": [
    "import os\n",
    "import re \n",
    "import jieba\n",
    "import pandas as pd\n",
    "from opencc import OpenCC\n",
    "from nltk.parse import CoreNLPParser"
   ]
  },
  {
   "cell_type": "code",
   "execution_count": 2,
   "metadata": {},
   "outputs": [],
   "source": [
    "parser = CoreNLPParser(url = 'http://localhost:9001', tagtype = 'ner')   # tagtype = 'pos' or 'ner'"
   ]
  },
  {
   "cell_type": "code",
   "execution_count": 3,
   "metadata": {},
   "outputs": [
    {
     "name": "stdout",
     "output_type": "stream",
     "text": [
      "['高雄醫學大學去年7月校務會議通過對第16屆董事會在8、9年前，數度修改捐助章程，不實登載「陳啟川為創辦人」，經提起偽造文書訴訟，5日首度在高雄地檢署開庭。', '高醫大董事會5日則聲明，無任何偽造文書事實，已故陳啟川先生捐出10餘甲土地，讓高醫大順利設校史實不容抹煞；高醫現有土地所有權狀大部分登載轉移原因為「捐贈」，是由陳啟川母親擔任董事長的南和興產公司捐贈。']\n"
     ]
    }
   ],
   "source": [
    "content = '高雄醫學大學去年7月校務會議通過對第16屆董事會在8、9年前，數度修改捐助章程，不實登載「陳啟川為創辦人」，經提起偽造文書訴訟，5日首度在高雄地檢署開庭。10多位校友趕來聲援，拉布條、高喊「解散董事會」。高醫大董事會5日則聲明，無任何偽造文書事實，已故陳啟川先生捐出10餘甲土地，讓高醫大順利設校史實不容抹煞；高醫現有土地所有權狀大部分登載轉移原因為「捐贈」，是由陳啟川母親擔任董事長的南和興產公司捐贈。高醫大校友藍傳盛表示，台灣省教育廳1954年函轉教育部案由「私立高雄醫學院創辦人杜聰明呈送設院事項」，附件即載明杜聰明詳細履歷及擬聘董事名單，因此學校創辦人為杜聰明毫無疑問，校友會立場支持學校提告。'\n",
    "keyword = '偽造文書'\n",
    "sentences = []\n",
    "for key in re.finditer(keyword, content):\n",
    "    end_list = ['。', '！', '!', '？', '?']\n",
    "    sentence_start = 0\n",
    "    sentence_end = len(content) - 1\n",
    "    for end in end_list:\n",
    "        dis_to_keystart = content[:key.start()][::-1].find(end)\n",
    "        if dis_to_keystart != -1: sentence_start = max(sentence_start, key.start() - dis_to_keystart) \n",
    "        dis_to_keyend = content[key.end():].find(end)\n",
    "        if dis_to_keyend != -1: sentence_end = min(sentence_end, key.end() + dis_to_keyend)\n",
    "    \n",
    "    sentences.append(content[sentence_start: sentence_end+1])\n",
    "\n",
    "print(sentences)"
   ]
  },
  {
   "cell_type": "code",
   "execution_count": 4,
   "metadata": {},
   "outputs": [
    {
     "ename": "ConnectionError",
     "evalue": "HTTPConnectionPool(host='localhost', port=9001): Max retries exceeded with url: /?properties=%7B%22outputFormat%22%3A+%22json%22%2C+%22annotators%22%3A+%22tokenize%2Cssplit%22%7D (Caused by NewConnectionError('<urllib3.connection.HTTPConnection object at 0x00000226906BCA58>: Failed to establish a new connection: [WinError 10061] 無法連線，因為目標電腦拒絕連線。',))",
     "output_type": "error",
     "traceback": [
      "\u001b[1;31m---------------------------------------------------------------------------\u001b[0m",
      "\u001b[1;31mConnectionRefusedError\u001b[0m                    Traceback (most recent call last)",
      "\u001b[1;32m~\\Anaconda3\\lib\\site-packages\\urllib3\\connection.py\u001b[0m in \u001b[0;36m_new_conn\u001b[1;34m(self)\u001b[0m\n\u001b[0;32m    158\u001b[0m             conn = connection.create_connection(\n\u001b[1;32m--> 159\u001b[1;33m                 (self._dns_host, self.port), self.timeout, **extra_kw)\n\u001b[0m\u001b[0;32m    160\u001b[0m \u001b[1;33m\u001b[0m\u001b[0m\n",
      "\u001b[1;32m~\\Anaconda3\\lib\\site-packages\\urllib3\\util\\connection.py\u001b[0m in \u001b[0;36mcreate_connection\u001b[1;34m(address, timeout, source_address, socket_options)\u001b[0m\n\u001b[0;32m     79\u001b[0m     \u001b[1;32mif\u001b[0m \u001b[0merr\u001b[0m \u001b[1;32mis\u001b[0m \u001b[1;32mnot\u001b[0m \u001b[1;32mNone\u001b[0m\u001b[1;33m:\u001b[0m\u001b[1;33m\u001b[0m\u001b[1;33m\u001b[0m\u001b[0m\n\u001b[1;32m---> 80\u001b[1;33m         \u001b[1;32mraise\u001b[0m \u001b[0merr\u001b[0m\u001b[1;33m\u001b[0m\u001b[1;33m\u001b[0m\u001b[0m\n\u001b[0m\u001b[0;32m     81\u001b[0m \u001b[1;33m\u001b[0m\u001b[0m\n",
      "\u001b[1;32m~\\Anaconda3\\lib\\site-packages\\urllib3\\util\\connection.py\u001b[0m in \u001b[0;36mcreate_connection\u001b[1;34m(address, timeout, source_address, socket_options)\u001b[0m\n\u001b[0;32m     69\u001b[0m                 \u001b[0msock\u001b[0m\u001b[1;33m.\u001b[0m\u001b[0mbind\u001b[0m\u001b[1;33m(\u001b[0m\u001b[0msource_address\u001b[0m\u001b[1;33m)\u001b[0m\u001b[1;33m\u001b[0m\u001b[1;33m\u001b[0m\u001b[0m\n\u001b[1;32m---> 70\u001b[1;33m             \u001b[0msock\u001b[0m\u001b[1;33m.\u001b[0m\u001b[0mconnect\u001b[0m\u001b[1;33m(\u001b[0m\u001b[0msa\u001b[0m\u001b[1;33m)\u001b[0m\u001b[1;33m\u001b[0m\u001b[1;33m\u001b[0m\u001b[0m\n\u001b[0m\u001b[0;32m     71\u001b[0m             \u001b[1;32mreturn\u001b[0m \u001b[0msock\u001b[0m\u001b[1;33m\u001b[0m\u001b[1;33m\u001b[0m\u001b[0m\n",
      "\u001b[1;31mConnectionRefusedError\u001b[0m: [WinError 10061] 無法連線，因為目標電腦拒絕連線。",
      "\nDuring handling of the above exception, another exception occurred:\n",
      "\u001b[1;31mNewConnectionError\u001b[0m                        Traceback (most recent call last)",
      "\u001b[1;32m~\\Anaconda3\\lib\\site-packages\\urllib3\\connectionpool.py\u001b[0m in \u001b[0;36murlopen\u001b[1;34m(self, method, url, body, headers, retries, redirect, assert_same_host, timeout, pool_timeout, release_conn, chunked, body_pos, **response_kw)\u001b[0m\n\u001b[0;32m    599\u001b[0m                                                   \u001b[0mbody\u001b[0m\u001b[1;33m=\u001b[0m\u001b[0mbody\u001b[0m\u001b[1;33m,\u001b[0m \u001b[0mheaders\u001b[0m\u001b[1;33m=\u001b[0m\u001b[0mheaders\u001b[0m\u001b[1;33m,\u001b[0m\u001b[1;33m\u001b[0m\u001b[1;33m\u001b[0m\u001b[0m\n\u001b[1;32m--> 600\u001b[1;33m                                                   chunked=chunked)\n\u001b[0m\u001b[0;32m    601\u001b[0m \u001b[1;33m\u001b[0m\u001b[0m\n",
      "\u001b[1;32m~\\Anaconda3\\lib\\site-packages\\urllib3\\connectionpool.py\u001b[0m in \u001b[0;36m_make_request\u001b[1;34m(self, conn, method, url, timeout, chunked, **httplib_request_kw)\u001b[0m\n\u001b[0;32m    353\u001b[0m         \u001b[1;32melse\u001b[0m\u001b[1;33m:\u001b[0m\u001b[1;33m\u001b[0m\u001b[1;33m\u001b[0m\u001b[0m\n\u001b[1;32m--> 354\u001b[1;33m             \u001b[0mconn\u001b[0m\u001b[1;33m.\u001b[0m\u001b[0mrequest\u001b[0m\u001b[1;33m(\u001b[0m\u001b[0mmethod\u001b[0m\u001b[1;33m,\u001b[0m \u001b[0murl\u001b[0m\u001b[1;33m,\u001b[0m \u001b[1;33m**\u001b[0m\u001b[0mhttplib_request_kw\u001b[0m\u001b[1;33m)\u001b[0m\u001b[1;33m\u001b[0m\u001b[1;33m\u001b[0m\u001b[0m\n\u001b[0m\u001b[0;32m    355\u001b[0m \u001b[1;33m\u001b[0m\u001b[0m\n",
      "\u001b[1;32m~\\Anaconda3\\lib\\http\\client.py\u001b[0m in \u001b[0;36mrequest\u001b[1;34m(self, method, url, body, headers, encode_chunked)\u001b[0m\n\u001b[0;32m   1238\u001b[0m         \u001b[1;34m\"\"\"Send a complete request to the server.\"\"\"\u001b[0m\u001b[1;33m\u001b[0m\u001b[1;33m\u001b[0m\u001b[0m\n\u001b[1;32m-> 1239\u001b[1;33m         \u001b[0mself\u001b[0m\u001b[1;33m.\u001b[0m\u001b[0m_send_request\u001b[0m\u001b[1;33m(\u001b[0m\u001b[0mmethod\u001b[0m\u001b[1;33m,\u001b[0m \u001b[0murl\u001b[0m\u001b[1;33m,\u001b[0m \u001b[0mbody\u001b[0m\u001b[1;33m,\u001b[0m \u001b[0mheaders\u001b[0m\u001b[1;33m,\u001b[0m \u001b[0mencode_chunked\u001b[0m\u001b[1;33m)\u001b[0m\u001b[1;33m\u001b[0m\u001b[1;33m\u001b[0m\u001b[0m\n\u001b[0m\u001b[0;32m   1240\u001b[0m \u001b[1;33m\u001b[0m\u001b[0m\n",
      "\u001b[1;32m~\\Anaconda3\\lib\\http\\client.py\u001b[0m in \u001b[0;36m_send_request\u001b[1;34m(self, method, url, body, headers, encode_chunked)\u001b[0m\n\u001b[0;32m   1284\u001b[0m             \u001b[0mbody\u001b[0m \u001b[1;33m=\u001b[0m \u001b[0m_encode\u001b[0m\u001b[1;33m(\u001b[0m\u001b[0mbody\u001b[0m\u001b[1;33m,\u001b[0m \u001b[1;34m'body'\u001b[0m\u001b[1;33m)\u001b[0m\u001b[1;33m\u001b[0m\u001b[1;33m\u001b[0m\u001b[0m\n\u001b[1;32m-> 1285\u001b[1;33m         \u001b[0mself\u001b[0m\u001b[1;33m.\u001b[0m\u001b[0mendheaders\u001b[0m\u001b[1;33m(\u001b[0m\u001b[0mbody\u001b[0m\u001b[1;33m,\u001b[0m \u001b[0mencode_chunked\u001b[0m\u001b[1;33m=\u001b[0m\u001b[0mencode_chunked\u001b[0m\u001b[1;33m)\u001b[0m\u001b[1;33m\u001b[0m\u001b[1;33m\u001b[0m\u001b[0m\n\u001b[0m\u001b[0;32m   1286\u001b[0m \u001b[1;33m\u001b[0m\u001b[0m\n",
      "\u001b[1;32m~\\Anaconda3\\lib\\http\\client.py\u001b[0m in \u001b[0;36mendheaders\u001b[1;34m(self, message_body, encode_chunked)\u001b[0m\n\u001b[0;32m   1233\u001b[0m             \u001b[1;32mraise\u001b[0m \u001b[0mCannotSendHeader\u001b[0m\u001b[1;33m(\u001b[0m\u001b[1;33m)\u001b[0m\u001b[1;33m\u001b[0m\u001b[1;33m\u001b[0m\u001b[0m\n\u001b[1;32m-> 1234\u001b[1;33m         \u001b[0mself\u001b[0m\u001b[1;33m.\u001b[0m\u001b[0m_send_output\u001b[0m\u001b[1;33m(\u001b[0m\u001b[0mmessage_body\u001b[0m\u001b[1;33m,\u001b[0m \u001b[0mencode_chunked\u001b[0m\u001b[1;33m=\u001b[0m\u001b[0mencode_chunked\u001b[0m\u001b[1;33m)\u001b[0m\u001b[1;33m\u001b[0m\u001b[1;33m\u001b[0m\u001b[0m\n\u001b[0m\u001b[0;32m   1235\u001b[0m \u001b[1;33m\u001b[0m\u001b[0m\n",
      "\u001b[1;32m~\\Anaconda3\\lib\\http\\client.py\u001b[0m in \u001b[0;36m_send_output\u001b[1;34m(self, message_body, encode_chunked)\u001b[0m\n\u001b[0;32m   1025\u001b[0m         \u001b[1;32mdel\u001b[0m \u001b[0mself\u001b[0m\u001b[1;33m.\u001b[0m\u001b[0m_buffer\u001b[0m\u001b[1;33m[\u001b[0m\u001b[1;33m:\u001b[0m\u001b[1;33m]\u001b[0m\u001b[1;33m\u001b[0m\u001b[1;33m\u001b[0m\u001b[0m\n\u001b[1;32m-> 1026\u001b[1;33m         \u001b[0mself\u001b[0m\u001b[1;33m.\u001b[0m\u001b[0msend\u001b[0m\u001b[1;33m(\u001b[0m\u001b[0mmsg\u001b[0m\u001b[1;33m)\u001b[0m\u001b[1;33m\u001b[0m\u001b[1;33m\u001b[0m\u001b[0m\n\u001b[0m\u001b[0;32m   1027\u001b[0m \u001b[1;33m\u001b[0m\u001b[0m\n",
      "\u001b[1;32m~\\Anaconda3\\lib\\http\\client.py\u001b[0m in \u001b[0;36msend\u001b[1;34m(self, data)\u001b[0m\n\u001b[0;32m    963\u001b[0m             \u001b[1;32mif\u001b[0m \u001b[0mself\u001b[0m\u001b[1;33m.\u001b[0m\u001b[0mauto_open\u001b[0m\u001b[1;33m:\u001b[0m\u001b[1;33m\u001b[0m\u001b[1;33m\u001b[0m\u001b[0m\n\u001b[1;32m--> 964\u001b[1;33m                 \u001b[0mself\u001b[0m\u001b[1;33m.\u001b[0m\u001b[0mconnect\u001b[0m\u001b[1;33m(\u001b[0m\u001b[1;33m)\u001b[0m\u001b[1;33m\u001b[0m\u001b[1;33m\u001b[0m\u001b[0m\n\u001b[0m\u001b[0;32m    965\u001b[0m             \u001b[1;32melse\u001b[0m\u001b[1;33m:\u001b[0m\u001b[1;33m\u001b[0m\u001b[1;33m\u001b[0m\u001b[0m\n",
      "\u001b[1;32m~\\Anaconda3\\lib\\site-packages\\urllib3\\connection.py\u001b[0m in \u001b[0;36mconnect\u001b[1;34m(self)\u001b[0m\n\u001b[0;32m    180\u001b[0m     \u001b[1;32mdef\u001b[0m \u001b[0mconnect\u001b[0m\u001b[1;33m(\u001b[0m\u001b[0mself\u001b[0m\u001b[1;33m)\u001b[0m\u001b[1;33m:\u001b[0m\u001b[1;33m\u001b[0m\u001b[1;33m\u001b[0m\u001b[0m\n\u001b[1;32m--> 181\u001b[1;33m         \u001b[0mconn\u001b[0m \u001b[1;33m=\u001b[0m \u001b[0mself\u001b[0m\u001b[1;33m.\u001b[0m\u001b[0m_new_conn\u001b[0m\u001b[1;33m(\u001b[0m\u001b[1;33m)\u001b[0m\u001b[1;33m\u001b[0m\u001b[1;33m\u001b[0m\u001b[0m\n\u001b[0m\u001b[0;32m    182\u001b[0m         \u001b[0mself\u001b[0m\u001b[1;33m.\u001b[0m\u001b[0m_prepare_conn\u001b[0m\u001b[1;33m(\u001b[0m\u001b[0mconn\u001b[0m\u001b[1;33m)\u001b[0m\u001b[1;33m\u001b[0m\u001b[1;33m\u001b[0m\u001b[0m\n",
      "\u001b[1;32m~\\Anaconda3\\lib\\site-packages\\urllib3\\connection.py\u001b[0m in \u001b[0;36m_new_conn\u001b[1;34m(self)\u001b[0m\n\u001b[0;32m    167\u001b[0m             raise NewConnectionError(\n\u001b[1;32m--> 168\u001b[1;33m                 self, \"Failed to establish a new connection: %s\" % e)\n\u001b[0m\u001b[0;32m    169\u001b[0m \u001b[1;33m\u001b[0m\u001b[0m\n",
      "\u001b[1;31mNewConnectionError\u001b[0m: <urllib3.connection.HTTPConnection object at 0x00000226906BCA58>: Failed to establish a new connection: [WinError 10061] 無法連線，因為目標電腦拒絕連線。",
      "\nDuring handling of the above exception, another exception occurred:\n",
      "\u001b[1;31mMaxRetryError\u001b[0m                             Traceback (most recent call last)",
      "\u001b[1;32m~\\Anaconda3\\lib\\site-packages\\requests\\adapters.py\u001b[0m in \u001b[0;36msend\u001b[1;34m(self, request, stream, timeout, verify, cert, proxies)\u001b[0m\n\u001b[0;32m    448\u001b[0m                     \u001b[0mretries\u001b[0m\u001b[1;33m=\u001b[0m\u001b[0mself\u001b[0m\u001b[1;33m.\u001b[0m\u001b[0mmax_retries\u001b[0m\u001b[1;33m,\u001b[0m\u001b[1;33m\u001b[0m\u001b[1;33m\u001b[0m\u001b[0m\n\u001b[1;32m--> 449\u001b[1;33m                     \u001b[0mtimeout\u001b[0m\u001b[1;33m=\u001b[0m\u001b[0mtimeout\u001b[0m\u001b[1;33m\u001b[0m\u001b[1;33m\u001b[0m\u001b[0m\n\u001b[0m\u001b[0;32m    450\u001b[0m                 )\n",
      "\u001b[1;32m~\\Anaconda3\\lib\\site-packages\\urllib3\\connectionpool.py\u001b[0m in \u001b[0;36murlopen\u001b[1;34m(self, method, url, body, headers, retries, redirect, assert_same_host, timeout, pool_timeout, release_conn, chunked, body_pos, **response_kw)\u001b[0m\n\u001b[0;32m    637\u001b[0m             retries = retries.increment(method, url, error=e, _pool=self,\n\u001b[1;32m--> 638\u001b[1;33m                                         _stacktrace=sys.exc_info()[2])\n\u001b[0m\u001b[0;32m    639\u001b[0m             \u001b[0mretries\u001b[0m\u001b[1;33m.\u001b[0m\u001b[0msleep\u001b[0m\u001b[1;33m(\u001b[0m\u001b[1;33m)\u001b[0m\u001b[1;33m\u001b[0m\u001b[1;33m\u001b[0m\u001b[0m\n",
      "\u001b[1;32m~\\Anaconda3\\lib\\site-packages\\urllib3\\util\\retry.py\u001b[0m in \u001b[0;36mincrement\u001b[1;34m(self, method, url, response, error, _pool, _stacktrace)\u001b[0m\n\u001b[0;32m    397\u001b[0m         \u001b[1;32mif\u001b[0m \u001b[0mnew_retry\u001b[0m\u001b[1;33m.\u001b[0m\u001b[0mis_exhausted\u001b[0m\u001b[1;33m(\u001b[0m\u001b[1;33m)\u001b[0m\u001b[1;33m:\u001b[0m\u001b[1;33m\u001b[0m\u001b[1;33m\u001b[0m\u001b[0m\n\u001b[1;32m--> 398\u001b[1;33m             \u001b[1;32mraise\u001b[0m \u001b[0mMaxRetryError\u001b[0m\u001b[1;33m(\u001b[0m\u001b[0m_pool\u001b[0m\u001b[1;33m,\u001b[0m \u001b[0murl\u001b[0m\u001b[1;33m,\u001b[0m \u001b[0merror\u001b[0m \u001b[1;32mor\u001b[0m \u001b[0mResponseError\u001b[0m\u001b[1;33m(\u001b[0m\u001b[0mcause\u001b[0m\u001b[1;33m)\u001b[0m\u001b[1;33m)\u001b[0m\u001b[1;33m\u001b[0m\u001b[1;33m\u001b[0m\u001b[0m\n\u001b[0m\u001b[0;32m    399\u001b[0m \u001b[1;33m\u001b[0m\u001b[0m\n",
      "\u001b[1;31mMaxRetryError\u001b[0m: HTTPConnectionPool(host='localhost', port=9001): Max retries exceeded with url: /?properties=%7B%22outputFormat%22%3A+%22json%22%2C+%22annotators%22%3A+%22tokenize%2Cssplit%22%7D (Caused by NewConnectionError('<urllib3.connection.HTTPConnection object at 0x00000226906BCA58>: Failed to establish a new connection: [WinError 10061] 無法連線，因為目標電腦拒絕連線。',))",
      "\nDuring handling of the above exception, another exception occurred:\n",
      "\u001b[1;31mConnectionError\u001b[0m                           Traceback (most recent call last)",
      "\u001b[1;32m<ipython-input-4-c873b5cc77d0>\u001b[0m in \u001b[0;36m<module>\u001b[1;34m\u001b[0m\n\u001b[0;32m      3\u001b[0m \u001b[1;32mfor\u001b[0m \u001b[0msentence\u001b[0m \u001b[1;32min\u001b[0m \u001b[0msentences\u001b[0m\u001b[1;33m:\u001b[0m\u001b[1;33m\u001b[0m\u001b[1;33m\u001b[0m\u001b[0m\n\u001b[0;32m      4\u001b[0m     \u001b[0msentence\u001b[0m \u001b[1;33m=\u001b[0m \u001b[0mcc\u001b[0m\u001b[1;33m.\u001b[0m\u001b[0mconvert\u001b[0m\u001b[1;33m(\u001b[0m\u001b[0msentence\u001b[0m\u001b[1;33m)\u001b[0m\u001b[1;33m\u001b[0m\u001b[1;33m\u001b[0m\u001b[0m\n\u001b[1;32m----> 5\u001b[1;33m     \u001b[0mnltk_cut\u001b[0m \u001b[1;33m=\u001b[0m \u001b[0mlist\u001b[0m\u001b[1;33m(\u001b[0m\u001b[0mparser\u001b[0m\u001b[1;33m.\u001b[0m\u001b[0mtokenize\u001b[0m\u001b[1;33m(\u001b[0m\u001b[0msentence\u001b[0m\u001b[1;33m)\u001b[0m\u001b[1;33m)\u001b[0m\u001b[1;33m\u001b[0m\u001b[1;33m\u001b[0m\u001b[0m\n\u001b[0m\u001b[0;32m      6\u001b[0m     \u001b[0mjieba_cut\u001b[0m \u001b[1;33m=\u001b[0m \u001b[0mlist\u001b[0m\u001b[1;33m(\u001b[0m\u001b[0mjieba\u001b[0m\u001b[1;33m.\u001b[0m\u001b[0mcut\u001b[0m\u001b[1;33m(\u001b[0m\u001b[0msentence\u001b[0m\u001b[1;33m,\u001b[0m \u001b[0mcut_all\u001b[0m \u001b[1;33m=\u001b[0m \u001b[1;32mFalse\u001b[0m\u001b[1;33m)\u001b[0m\u001b[1;33m)\u001b[0m\u001b[1;33m\u001b[0m\u001b[1;33m\u001b[0m\u001b[0m\n\u001b[0;32m      7\u001b[0m     \u001b[0mprint\u001b[0m\u001b[1;33m(\u001b[0m\u001b[1;34m'nltk_cut:'\u001b[0m\u001b[1;33m,\u001b[0m \u001b[0mnltk_cut\u001b[0m\u001b[1;33m,\u001b[0m \u001b[1;34m'\\n'\u001b[0m\u001b[1;33m)\u001b[0m\u001b[1;33m\u001b[0m\u001b[1;33m\u001b[0m\u001b[0m\n",
      "\u001b[1;32m~\\Anaconda3\\lib\\site-packages\\nltk\\parse\\corenlp.py\u001b[0m in \u001b[0;36mtokenize\u001b[1;34m(self, text, properties)\u001b[0m\n\u001b[0;32m    324\u001b[0m         \u001b[0mdefault_properties\u001b[0m\u001b[1;33m.\u001b[0m\u001b[0mupdate\u001b[0m\u001b[1;33m(\u001b[0m\u001b[0mproperties\u001b[0m \u001b[1;32mor\u001b[0m \u001b[1;33m{\u001b[0m\u001b[1;33m}\u001b[0m\u001b[1;33m)\u001b[0m\u001b[1;33m\u001b[0m\u001b[1;33m\u001b[0m\u001b[0m\n\u001b[0;32m    325\u001b[0m \u001b[1;33m\u001b[0m\u001b[0m\n\u001b[1;32m--> 326\u001b[1;33m         \u001b[0mresult\u001b[0m \u001b[1;33m=\u001b[0m \u001b[0mself\u001b[0m\u001b[1;33m.\u001b[0m\u001b[0mapi_call\u001b[0m\u001b[1;33m(\u001b[0m\u001b[0mtext\u001b[0m\u001b[1;33m,\u001b[0m \u001b[0mproperties\u001b[0m\u001b[1;33m=\u001b[0m\u001b[0mdefault_properties\u001b[0m\u001b[1;33m)\u001b[0m\u001b[1;33m\u001b[0m\u001b[1;33m\u001b[0m\u001b[0m\n\u001b[0m\u001b[0;32m    327\u001b[0m \u001b[1;33m\u001b[0m\u001b[0m\n\u001b[0;32m    328\u001b[0m         \u001b[1;32mfor\u001b[0m \u001b[0msentence\u001b[0m \u001b[1;32min\u001b[0m \u001b[0mresult\u001b[0m\u001b[1;33m[\u001b[0m\u001b[1;34m'sentences'\u001b[0m\u001b[1;33m]\u001b[0m\u001b[1;33m:\u001b[0m\u001b[1;33m\u001b[0m\u001b[1;33m\u001b[0m\u001b[0m\n",
      "\u001b[1;32m~\\Anaconda3\\lib\\site-packages\\nltk\\parse\\corenlp.py\u001b[0m in \u001b[0;36mapi_call\u001b[1;34m(self, data, properties)\u001b[0m\n\u001b[0;32m    245\u001b[0m             \u001b[0mparams\u001b[0m\u001b[1;33m=\u001b[0m\u001b[1;33m{\u001b[0m\u001b[1;34m'properties'\u001b[0m\u001b[1;33m:\u001b[0m \u001b[0mjson\u001b[0m\u001b[1;33m.\u001b[0m\u001b[0mdumps\u001b[0m\u001b[1;33m(\u001b[0m\u001b[0mdefault_properties\u001b[0m\u001b[1;33m)\u001b[0m\u001b[1;33m}\u001b[0m\u001b[1;33m,\u001b[0m\u001b[1;33m\u001b[0m\u001b[1;33m\u001b[0m\u001b[0m\n\u001b[0;32m    246\u001b[0m             \u001b[0mdata\u001b[0m\u001b[1;33m=\u001b[0m\u001b[0mdata\u001b[0m\u001b[1;33m.\u001b[0m\u001b[0mencode\u001b[0m\u001b[1;33m(\u001b[0m\u001b[0mself\u001b[0m\u001b[1;33m.\u001b[0m\u001b[0mencoding\u001b[0m\u001b[1;33m)\u001b[0m\u001b[1;33m,\u001b[0m\u001b[1;33m\u001b[0m\u001b[1;33m\u001b[0m\u001b[0m\n\u001b[1;32m--> 247\u001b[1;33m             \u001b[0mtimeout\u001b[0m\u001b[1;33m=\u001b[0m\u001b[1;36m60\u001b[0m\u001b[1;33m,\u001b[0m\u001b[1;33m\u001b[0m\u001b[1;33m\u001b[0m\u001b[0m\n\u001b[0m\u001b[0;32m    248\u001b[0m         )\n\u001b[0;32m    249\u001b[0m \u001b[1;33m\u001b[0m\u001b[0m\n",
      "\u001b[1;32m~\\Anaconda3\\lib\\site-packages\\requests\\sessions.py\u001b[0m in \u001b[0;36mpost\u001b[1;34m(self, url, data, json, **kwargs)\u001b[0m\n\u001b[0;32m    579\u001b[0m         \"\"\"\n\u001b[0;32m    580\u001b[0m \u001b[1;33m\u001b[0m\u001b[0m\n\u001b[1;32m--> 581\u001b[1;33m         \u001b[1;32mreturn\u001b[0m \u001b[0mself\u001b[0m\u001b[1;33m.\u001b[0m\u001b[0mrequest\u001b[0m\u001b[1;33m(\u001b[0m\u001b[1;34m'POST'\u001b[0m\u001b[1;33m,\u001b[0m \u001b[0murl\u001b[0m\u001b[1;33m,\u001b[0m \u001b[0mdata\u001b[0m\u001b[1;33m=\u001b[0m\u001b[0mdata\u001b[0m\u001b[1;33m,\u001b[0m \u001b[0mjson\u001b[0m\u001b[1;33m=\u001b[0m\u001b[0mjson\u001b[0m\u001b[1;33m,\u001b[0m \u001b[1;33m**\u001b[0m\u001b[0mkwargs\u001b[0m\u001b[1;33m)\u001b[0m\u001b[1;33m\u001b[0m\u001b[1;33m\u001b[0m\u001b[0m\n\u001b[0m\u001b[0;32m    582\u001b[0m \u001b[1;33m\u001b[0m\u001b[0m\n\u001b[0;32m    583\u001b[0m     \u001b[1;32mdef\u001b[0m \u001b[0mput\u001b[0m\u001b[1;33m(\u001b[0m\u001b[0mself\u001b[0m\u001b[1;33m,\u001b[0m \u001b[0murl\u001b[0m\u001b[1;33m,\u001b[0m \u001b[0mdata\u001b[0m\u001b[1;33m=\u001b[0m\u001b[1;32mNone\u001b[0m\u001b[1;33m,\u001b[0m \u001b[1;33m**\u001b[0m\u001b[0mkwargs\u001b[0m\u001b[1;33m)\u001b[0m\u001b[1;33m:\u001b[0m\u001b[1;33m\u001b[0m\u001b[1;33m\u001b[0m\u001b[0m\n",
      "\u001b[1;32m~\\Anaconda3\\lib\\site-packages\\requests\\sessions.py\u001b[0m in \u001b[0;36mrequest\u001b[1;34m(self, method, url, params, data, headers, cookies, files, auth, timeout, allow_redirects, proxies, hooks, stream, verify, cert, json)\u001b[0m\n\u001b[0;32m    531\u001b[0m         }\n\u001b[0;32m    532\u001b[0m         \u001b[0msend_kwargs\u001b[0m\u001b[1;33m.\u001b[0m\u001b[0mupdate\u001b[0m\u001b[1;33m(\u001b[0m\u001b[0msettings\u001b[0m\u001b[1;33m)\u001b[0m\u001b[1;33m\u001b[0m\u001b[1;33m\u001b[0m\u001b[0m\n\u001b[1;32m--> 533\u001b[1;33m         \u001b[0mresp\u001b[0m \u001b[1;33m=\u001b[0m \u001b[0mself\u001b[0m\u001b[1;33m.\u001b[0m\u001b[0msend\u001b[0m\u001b[1;33m(\u001b[0m\u001b[0mprep\u001b[0m\u001b[1;33m,\u001b[0m \u001b[1;33m**\u001b[0m\u001b[0msend_kwargs\u001b[0m\u001b[1;33m)\u001b[0m\u001b[1;33m\u001b[0m\u001b[1;33m\u001b[0m\u001b[0m\n\u001b[0m\u001b[0;32m    534\u001b[0m \u001b[1;33m\u001b[0m\u001b[0m\n\u001b[0;32m    535\u001b[0m         \u001b[1;32mreturn\u001b[0m \u001b[0mresp\u001b[0m\u001b[1;33m\u001b[0m\u001b[1;33m\u001b[0m\u001b[0m\n",
      "\u001b[1;32m~\\Anaconda3\\lib\\site-packages\\requests\\sessions.py\u001b[0m in \u001b[0;36msend\u001b[1;34m(self, request, **kwargs)\u001b[0m\n\u001b[0;32m    644\u001b[0m \u001b[1;33m\u001b[0m\u001b[0m\n\u001b[0;32m    645\u001b[0m         \u001b[1;31m# Send the request\u001b[0m\u001b[1;33m\u001b[0m\u001b[1;33m\u001b[0m\u001b[1;33m\u001b[0m\u001b[0m\n\u001b[1;32m--> 646\u001b[1;33m         \u001b[0mr\u001b[0m \u001b[1;33m=\u001b[0m \u001b[0madapter\u001b[0m\u001b[1;33m.\u001b[0m\u001b[0msend\u001b[0m\u001b[1;33m(\u001b[0m\u001b[0mrequest\u001b[0m\u001b[1;33m,\u001b[0m \u001b[1;33m**\u001b[0m\u001b[0mkwargs\u001b[0m\u001b[1;33m)\u001b[0m\u001b[1;33m\u001b[0m\u001b[1;33m\u001b[0m\u001b[0m\n\u001b[0m\u001b[0;32m    647\u001b[0m \u001b[1;33m\u001b[0m\u001b[0m\n\u001b[0;32m    648\u001b[0m         \u001b[1;31m# Total elapsed time of the request (approximately)\u001b[0m\u001b[1;33m\u001b[0m\u001b[1;33m\u001b[0m\u001b[1;33m\u001b[0m\u001b[0m\n",
      "\u001b[1;32m~\\Anaconda3\\lib\\site-packages\\requests\\adapters.py\u001b[0m in \u001b[0;36msend\u001b[1;34m(self, request, stream, timeout, verify, cert, proxies)\u001b[0m\n\u001b[0;32m    514\u001b[0m                 \u001b[1;32mraise\u001b[0m \u001b[0mSSLError\u001b[0m\u001b[1;33m(\u001b[0m\u001b[0me\u001b[0m\u001b[1;33m,\u001b[0m \u001b[0mrequest\u001b[0m\u001b[1;33m=\u001b[0m\u001b[0mrequest\u001b[0m\u001b[1;33m)\u001b[0m\u001b[1;33m\u001b[0m\u001b[1;33m\u001b[0m\u001b[0m\n\u001b[0;32m    515\u001b[0m \u001b[1;33m\u001b[0m\u001b[0m\n\u001b[1;32m--> 516\u001b[1;33m             \u001b[1;32mraise\u001b[0m \u001b[0mConnectionError\u001b[0m\u001b[1;33m(\u001b[0m\u001b[0me\u001b[0m\u001b[1;33m,\u001b[0m \u001b[0mrequest\u001b[0m\u001b[1;33m=\u001b[0m\u001b[0mrequest\u001b[0m\u001b[1;33m)\u001b[0m\u001b[1;33m\u001b[0m\u001b[1;33m\u001b[0m\u001b[0m\n\u001b[0m\u001b[0;32m    517\u001b[0m \u001b[1;33m\u001b[0m\u001b[0m\n\u001b[0;32m    518\u001b[0m         \u001b[1;32mexcept\u001b[0m \u001b[0mClosedPoolError\u001b[0m \u001b[1;32mas\u001b[0m \u001b[0me\u001b[0m\u001b[1;33m:\u001b[0m\u001b[1;33m\u001b[0m\u001b[1;33m\u001b[0m\u001b[0m\n",
      "\u001b[1;31mConnectionError\u001b[0m: HTTPConnectionPool(host='localhost', port=9001): Max retries exceeded with url: /?properties=%7B%22outputFormat%22%3A+%22json%22%2C+%22annotators%22%3A+%22tokenize%2Cssplit%22%7D (Caused by NewConnectionError('<urllib3.connection.HTTPConnection object at 0x00000226906BCA58>: Failed to establish a new connection: [WinError 10061] 無法連線，因為目標電腦拒絕連線。',))"
     ]
    }
   ],
   "source": [
    "# (Optional) convert from Simplified Chinese to Traditional Chinese\n",
    "cc = OpenCC('t2s') \n",
    "for sentence in sentences:\n",
    "    sentence = cc.convert(sentence)\n",
    "    nltk_cut = list(parser.tokenize(sentence))\n",
    "    jieba_cut = list(jieba.cut(sentence, cut_all = False))\n",
    "    print('nltk_cut:', nltk_cut, '\\n')\n",
    "    print('jieba_cut:', jieba_cut, '\\n')\n",
    "    \n",
    "    nltk_tag = list(parser.tag(nltk_cut))\n",
    "    print('nltk_tag:', nltk_tag, '\\n')\n",
    "    \n",
    "    per = []\n",
    "    org = []\n",
    "    for wordtag_pair in nltk_tag:\n",
    "        index = nltk_tag.index(wordtag_pair)\n",
    "        \n",
    "        word = wordtag_pair[0]\n",
    "        tag = wordtag_pair[1]\n",
    "        if tag == 'PERSON':\n",
    "            if nltk_tag[index-1][1] == 'PERSON': per[-1] += word\n",
    "            else: per.append(word)\n",
    "            \n",
    "        if tag == 'ORGANIZATION':\n",
    "            if nltk_tag[index-1][1] == 'ORGANIZATION': org[-1] += word\n",
    "            else: org.append(word)\n",
    "        \n",
    "    print(org, '\\n')\n",
    "    print(per, '\\n')\n",
    "    \n",
    "    # nltk_sentence = list(parser.parse(nltk_cut))\n",
    "    # print('nltk_tag:', nltk_sentence, '\\n''\\n')"
   ]
  },
  {
   "cell_type": "code",
   "execution_count": 5,
   "metadata": {},
   "outputs": [
    {
     "ename": "NameError",
     "evalue": "name 'nltk_cut' is not defined",
     "output_type": "error",
     "traceback": [
      "\u001b[1;31m---------------------------------------------------------------------------\u001b[0m",
      "\u001b[1;31mNameError\u001b[0m                                 Traceback (most recent call last)",
      "\u001b[1;32m<ipython-input-5-ba2bb733d088>\u001b[0m in \u001b[0;36m<module>\u001b[1;34m\u001b[0m\n\u001b[1;32m----> 1\u001b[1;33m \u001b[0mnltk_sentence\u001b[0m \u001b[1;33m=\u001b[0m \u001b[0mlist\u001b[0m\u001b[1;33m(\u001b[0m\u001b[0mparser\u001b[0m\u001b[1;33m.\u001b[0m\u001b[0mparse\u001b[0m\u001b[1;33m(\u001b[0m\u001b[0mnltk_cut\u001b[0m\u001b[1;33m)\u001b[0m\u001b[1;33m)\u001b[0m\u001b[1;33m\u001b[0m\u001b[1;33m\u001b[0m\u001b[0m\n\u001b[0m\u001b[0;32m      2\u001b[0m \u001b[0mprint\u001b[0m\u001b[1;33m(\u001b[0m\u001b[1;34m'nltk_sentence:'\u001b[0m\u001b[1;33m,\u001b[0m \u001b[0mnltk_sentence\u001b[0m\u001b[1;33m,\u001b[0m \u001b[1;34m'\\n'\u001b[0m\u001b[1;34m'\\n'\u001b[0m\u001b[1;33m)\u001b[0m\u001b[1;33m\u001b[0m\u001b[1;33m\u001b[0m\u001b[0m\n",
      "\u001b[1;31mNameError\u001b[0m: name 'nltk_cut' is not defined"
     ]
    }
   ],
   "source": [
    "nltk_sentence = list(parser.parse(nltk_cut))\n",
    "print('nltk_sentence:', nltk_sentence, '\\n''\\n')"
   ]
  },
  {
   "cell_type": "code",
   "execution_count": null,
   "metadata": {},
   "outputs": [],
   "source": [
    "for line in nltk_sentence:\n",
    "    for sentence in line:\n",
    "        sentence.draw()"
   ]
  },
  {
   "cell_type": "code",
   "execution_count": 15,
   "metadata": {},
   "outputs": [
    {
     "name": "stdout",
     "output_type": "stream",
     "text": [
      "取得tree的label:\n",
      "[(), (0,), (0, 0), (0, 0, 0), (0, 0, 0, 0), (0, 0, 0, 0, 0), (0, 0, 1), (0, 0, 1, 0), (0, 0, 1, 0, 0), (0, 0, 1, 0, 0, 0), (0, 0, 1, 0, 0, 0, 0), (0, 0, 1, 0, 0, 0, 0, 0), (0, 0, 1, 0, 0, 0, 0, 0, 0), (0, 0, 1, 0, 0, 0, 0, 0, 0, 0), (0, 0, 1, 0, 0, 0, 0, 1), (0, 0, 1, 0, 0, 0, 0, 1, 0), (0, 0, 1, 0, 0, 0, 0, 1, 0, 0), (0, 0, 1, 0, 0, 0, 0, 1, 0, 0, 0), (0, 0, 1, 0, 0, 0, 0, 1, 0, 0, 0, 0), (0, 0, 1, 0, 0, 0, 0, 1, 0, 0, 0, 0, 0), (0, 0, 1, 0, 0, 0, 0, 1, 0, 0, 0, 0, 0, 0), (0, 0, 1, 0, 0, 0, 0, 1, 0, 0, 0, 0, 0, 0, 0), (0, 0, 1, 0, 0, 0, 0, 1, 0, 0, 0, 0, 1), (0, 0, 1, 0, 0, 0, 0, 1, 0, 0, 0, 0, 1, 0), (0, 0, 1, 0, 0, 0, 0, 1, 0, 0, 0, 0, 1, 0, 0), (0, 0, 1, 0, 0, 0, 0, 1, 0, 0, 0, 0, 1, 1), (0, 0, 1, 0, 0, 0, 0, 1, 0, 0, 0, 0, 1, 1, 0), (0, 0, 1, 0, 0, 0, 0, 1, 0, 0, 0, 0, 1, 1, 0, 0), (0, 0, 1, 0, 0, 0, 0, 1, 0, 0, 0, 0, 1, 1, 0, 0, 0), (0, 0, 1, 0, 0, 0, 0, 1, 0, 0, 0, 0, 1, 1, 0, 0, 0, 0), (0, 0, 1, 0, 0, 0, 0, 1, 0, 0, 0, 0, 1, 1, 0, 0, 1), (0, 0, 1, 0, 0, 0, 0, 1, 0, 0, 0, 0, 1, 1, 0, 0, 1, 0), (0, 0, 1, 0, 0, 0, 0, 1, 0, 0, 0, 0, 1, 1, 0, 1), (0, 0, 1, 0, 0, 0, 0, 1, 0, 0, 0, 0, 1, 1, 0, 1, 0), (0, 0, 1, 0, 0, 0, 0, 1, 0, 0, 0, 0, 1, 1, 0, 1, 0, 0), (0, 0, 1, 0, 0, 0, 0, 1, 0, 0, 0, 0, 1, 1, 0, 1, 1), (0, 0, 1, 0, 0, 0, 0, 1, 0, 0, 0, 0, 1, 1, 0, 1, 1, 0), (0, 0, 1, 0, 0, 0, 0, 1, 0, 0, 0, 0, 1, 1, 0, 1, 1, 0, 0), (0, 0, 1, 0, 0, 0, 0, 1, 0, 0, 0, 0, 1, 1, 0, 2), (0, 0, 1, 0, 0, 0, 0, 1, 0, 0, 0, 0, 1, 1, 0, 2, 0), (0, 0, 1, 0, 0, 0, 0, 1, 0, 0, 0, 0, 1, 1, 0, 2, 0, 0), (0, 0, 1, 0, 0, 0, 0, 1, 0, 0, 0, 0, 1, 1, 1), (0, 0, 1, 0, 0, 0, 0, 1, 0, 0, 0, 0, 1, 1, 1, 0), (0, 0, 1, 0, 0, 0, 0, 1, 0, 0, 0, 0, 1, 1, 1, 0, 0), (0, 0, 1, 0, 0, 0, 0, 1, 0, 0, 0, 1), (0, 0, 1, 0, 0, 0, 0, 1, 0, 0, 0, 1, 0), (0, 0, 1, 0, 0, 0, 0, 1, 0, 0, 0, 1, 0, 0), (0, 0, 1, 0, 0, 0, 1), (0, 0, 1, 0, 0, 0, 1, 0), (0, 0, 1, 0, 0, 0, 1, 0, 0), (0, 1), (0, 1, 0), (0, 1, 0, 0), (0, 1, 1), (0, 1, 1, 0), (0, 1, 1, 0, 0), (1,), (1, 0), (1, 0, 0), (1, 0, 0, 0), (1, 1), (1, 1, 0), (1, 1, 0, 0), (1, 1, 0, 0, 0), (1, 1, 0, 0, 0, 0), (1, 1, 0, 1), (1, 1, 0, 1, 0), (1, 1, 0, 1, 0, 0), (1, 1, 0, 2), (1, 1, 0, 2, 0), (1, 1, 0, 2, 0, 0), (1, 1, 0, 3), (1, 1, 0, 3, 0), (1, 1, 0, 3, 0, 0), (1, 1, 0, 3, 1), (1, 1, 0, 3, 1, 0), (1, 1, 0, 3, 1, 0, 0), (1, 1, 0, 3, 2), (1, 1, 0, 3, 2, 0), (1, 1, 0, 3, 2, 0, 0), (1, 1, 0, 3, 2, 0, 0, 0), (1, 1, 0, 3, 2, 0, 0, 0, 0), (1, 1, 0, 3, 2, 0, 1), (1, 1, 0, 3, 2, 0, 1, 0), (1, 1, 0, 3, 2, 0, 1, 0, 0), (1, 1, 0, 3, 2, 0, 1, 0, 0, 0), (1, 1, 0, 3, 2, 0, 1, 0, 0, 0, 0), (1, 1, 0, 3, 2, 0, 1, 0, 1), (1, 1, 0, 3, 2, 0, 1, 0, 1, 0), (1, 1, 0, 3, 2, 0, 1, 0, 1, 0, 0), (1, 1, 0, 3, 2, 0, 1, 0, 2), (1, 1, 0, 3, 2, 0, 1, 0, 2, 0), (1, 1, 0, 3, 2, 0, 1, 0, 2, 0, 0), (1, 1, 0, 3, 2, 0, 1, 0, 3), (1, 1, 0, 3, 2, 0, 1, 0, 3, 0), (1, 1, 0, 3, 2, 0, 1, 0, 3, 0, 0), (1, 1, 0, 3, 2, 0, 1, 0, 3, 1), (1, 1, 0, 3, 2, 0, 1, 0, 3, 1, 0), (1, 1, 0, 3, 2, 0, 1, 0, 3, 1, 0, 0), (1, 1, 0, 3, 2, 0, 1, 0, 3, 2), (1, 1, 0, 3, 2, 0, 1, 0, 3, 2, 0), (1, 1, 0, 3, 2, 0, 1, 0, 3, 2, 0, 0), (1, 1, 0, 3, 2, 0, 1, 0, 3, 2, 0, 0, 0), (1, 1, 0, 3, 2, 0, 1, 0, 3, 2, 0, 0, 0, 0), (1, 1, 0, 3, 2, 0, 1, 0, 3, 2, 0, 1), (1, 1, 0, 3, 2, 0, 1, 0, 3, 2, 0, 1, 0), (1, 1, 0, 3, 2, 0, 1, 0, 3, 2, 0, 1, 0, 0), (1, 1, 0, 3, 2, 0, 1, 0, 3, 2, 0, 1, 0, 0, 0), (1, 1, 0, 3, 2, 0, 1, 0, 3, 2, 0, 1, 0, 0, 0, 0), (1, 1, 0, 3, 2, 0, 1, 0, 3, 2, 0, 1, 0, 1), (1, 1, 0, 3, 2, 0, 1, 0, 3, 2, 0, 1, 0, 1, 0), (1, 1, 0, 3, 2, 0, 1, 0, 3, 2, 0, 1, 0, 1, 0, 0), (1, 1, 0, 3, 2, 0, 1, 0, 3, 2, 0, 1, 0, 2), (1, 1, 0, 3, 2, 0, 1, 0, 3, 2, 0, 1, 0, 2, 0), (1, 1, 0, 3, 2, 0, 1, 0, 3, 2, 0, 1, 0, 2, 0, 0), (1, 1, 0, 3, 2, 0, 1, 0, 3, 2, 0, 1, 0, 3), (1, 1, 0, 3, 2, 0, 1, 0, 3, 2, 0, 1, 0, 3, 0), (1, 1, 0, 3, 2, 0, 1, 0, 3, 2, 0, 1, 0, 3, 0, 0), (1, 1, 0, 3, 2, 0, 1, 0, 3, 2, 0, 1, 0, 3, 1), (1, 1, 0, 3, 2, 0, 1, 0, 3, 2, 0, 1, 0, 3, 1, 0), (1, 1, 0, 3, 2, 0, 1, 0, 3, 2, 0, 1, 0, 3, 1, 0, 0), (1, 1, 0, 3, 2, 0, 1, 0, 3, 2, 0, 1, 0, 3, 2), (1, 1, 0, 3, 2, 0, 1, 0, 3, 2, 0, 1, 0, 3, 2, 0), (1, 1, 0, 3, 2, 0, 1, 0, 3, 2, 0, 1, 0, 3, 2, 0, 0), (1, 1, 0, 3, 2, 0, 1, 0, 3, 2, 0, 1, 0, 3, 2, 0, 0, 0), (1, 1, 0, 3, 2, 0, 1, 0, 3, 2, 0, 1, 0, 3, 2, 0, 0, 0, 0), (1, 1, 0, 3, 2, 0, 1, 0, 3, 2, 0, 1, 0, 3, 2, 0, 0, 0, 0, 0), (1, 1, 0, 3, 2, 0, 1, 0, 3, 2, 0, 1, 0, 3, 2, 0, 0, 0, 1), (1, 1, 0, 3, 2, 0, 1, 0, 3, 2, 0, 1, 0, 3, 2, 0, 0, 0, 1, 0), (1, 1, 0, 3, 2, 0, 1, 0, 3, 2, 0, 1, 0, 3, 2, 0, 0, 0, 2), (1, 1, 0, 3, 2, 0, 1, 0, 3, 2, 0, 1, 0, 3, 2, 0, 0, 0, 2, 0), (1, 1, 0, 3, 2, 0, 1, 0, 3, 2, 0, 1, 0, 3, 2, 0, 1), (1, 1, 0, 3, 2, 0, 1, 0, 3, 2, 0, 1, 0, 3, 2, 0, 1, 0), (1, 1, 0, 3, 2, 0, 1, 0, 3, 2, 0, 1, 0, 3, 2, 0, 1, 0, 0), (1, 1, 0, 3, 2, 0, 1, 0, 3, 2, 0, 1, 0, 3, 2, 0, 1, 1), (1, 1, 0, 3, 2, 0, 1, 0, 3, 2, 0, 1, 0, 3, 2, 0, 1, 1, 0), (1, 1, 0, 3, 2, 0, 1, 0, 3, 2, 0, 1, 0, 3, 2, 0, 1, 1, 0, 0), (1, 1, 0, 3, 2, 0, 1, 0, 3, 2, 0, 1, 0, 3, 2, 1), (1, 1, 0, 3, 2, 0, 1, 0, 3, 2, 0, 1, 0, 3, 2, 1, 0), (1, 1, 0, 3, 2, 0, 1, 0, 3, 2, 0, 1, 0, 3, 2, 1, 0, 0), (1, 1, 0, 3, 2, 0, 1, 0, 3, 2, 0, 1, 1), (1, 1, 0, 3, 2, 0, 1, 0, 3, 2, 0, 1, 1, 0), (1, 1, 0, 3, 2, 0, 1, 0, 3, 2, 0, 1, 1, 0, 0), (1, 1, 0, 3, 2, 0, 1, 0, 3, 2, 0, 1, 1, 1), (1, 1, 0, 3, 2, 0, 1, 0, 3, 2, 0, 1, 1, 1, 0), (1, 1, 0, 3, 2, 0, 1, 0, 3, 2, 0, 1, 1, 1, 0, 0), (1, 1, 0, 3, 2, 0, 1, 0, 3, 2, 0, 1, 1, 2), (1, 1, 0, 3, 2, 0, 1, 0, 3, 2, 0, 1, 1, 2, 0), (1, 1, 0, 3, 2, 0, 1, 0, 3, 2, 0, 1, 1, 2, 0, 0), (1, 1, 0, 3, 2, 0, 1, 0, 3, 2, 0, 1, 1, 2, 0, 0, 0), (1, 1, 0, 3, 2, 0, 1, 0, 3, 2, 0, 1, 1, 2, 0, 0, 0, 0), (1, 1, 0, 3, 2, 0, 1, 0, 3, 2, 0, 1, 1, 2, 0, 0, 1), (1, 1, 0, 3, 2, 0, 1, 0, 3, 2, 0, 1, 1, 2, 0, 0, 1, 0), (1, 1, 0, 3, 2, 0, 1, 0, 3, 2, 0, 1, 1, 2, 0, 0, 1, 0, 0), (1, 1, 0, 3, 2, 0, 1, 0, 3, 2, 0, 1, 1, 2, 0, 1), (1, 1, 0, 3, 2, 0, 1, 0, 3, 2, 0, 1, 1, 2, 0, 1, 0), (1, 1, 0, 3, 2, 0, 1, 0, 3, 2, 0, 1, 1, 2, 0, 1, 0, 0), (1, 1, 0, 3, 2, 0, 1, 0, 3, 2, 0, 1, 1, 2, 0, 1, 1), (1, 1, 0, 3, 2, 0, 1, 0, 3, 2, 0, 1, 1, 2, 0, 1, 1, 0), (1, 1, 0, 3, 2, 0, 1, 0, 3, 2, 0, 1, 1, 2, 0, 1, 1, 0, 0), (1, 1, 0, 3, 2, 0, 1, 0, 3, 2, 0, 1, 1, 2, 1), (1, 1, 0, 3, 2, 0, 1, 0, 3, 2, 0, 1, 1, 2, 1, 0), (1, 1, 0, 3, 2, 0, 1, 0, 3, 2, 0, 1, 1, 2, 1, 0, 0), (1, 1, 0, 3, 2, 0, 1, 1), (1, 1, 0, 3, 2, 0, 1, 1, 0), (1, 1, 0, 3, 2, 0, 1, 1, 0, 0), (1, 1, 0, 3, 2, 0, 1, 1, 1), (1, 1, 0, 3, 2, 0, 1, 1, 1, 0), (1, 1, 0, 3, 2, 0, 1, 1, 1, 0, 0), (1, 1, 0, 3, 2, 0, 1, 1, 2), (1, 1, 0, 3, 2, 0, 1, 1, 2, 0), (1, 1, 0, 3, 2, 0, 1, 1, 2, 0, 0), (1, 1, 0, 3, 2, 0, 1, 1, 2, 0, 0, 0), (1, 1, 0, 3, 2, 0, 1, 1, 2, 0, 0, 0, 0), (1, 1, 0, 3, 2, 0, 1, 1, 2, 0, 1), (1, 1, 0, 3, 2, 0, 1, 1, 2, 0, 1, 0), (1, 1, 0, 3, 2, 0, 1, 1, 2, 0, 1, 0, 0), (1, 1, 0, 3, 2, 0, 1, 1, 2, 0, 1, 0, 0, 0), (1, 1, 0, 3, 2, 0, 1, 1, 2, 0, 1, 0, 0, 0, 0), (1, 1, 0, 3, 2, 0, 1, 1, 2, 0, 1, 0, 0, 0, 0, 0), (1, 1, 0, 3, 2, 0, 1, 1, 2, 0, 1, 0, 0, 0, 0, 0, 0), (1, 1, 0, 3, 2, 0, 1, 1, 2, 0, 1, 0, 0, 0, 1), (1, 1, 0, 3, 2, 0, 1, 1, 2, 0, 1, 0, 0, 0, 1, 0), (1, 1, 0, 3, 2, 0, 1, 1, 2, 0, 1, 0, 0, 0, 1, 0, 0), (1, 1, 0, 3, 2, 0, 1, 1, 2, 0, 1, 0, 1), (1, 1, 0, 3, 2, 0, 1, 1, 2, 0, 1, 0, 1, 0), (1, 1, 0, 3, 2, 0, 1, 1, 2, 0, 1, 0, 1, 0, 0), (1, 1, 0, 3, 2, 0, 1, 1, 2, 0, 1, 0, 1, 0, 0, 0), (1, 1, 0, 3, 2, 0, 1, 1, 2, 0, 1, 0, 1, 0, 0, 0, 0), (1, 1, 0, 3, 2, 0, 1, 1, 2, 0, 1, 0, 1, 0, 1), (1, 1, 0, 3, 2, 0, 1, 1, 2, 0, 1, 0, 1, 0, 1, 0), (1, 1, 0, 3, 2, 0, 1, 1, 2, 0, 1, 0, 1, 0, 1, 0, 0), (1, 1, 0, 3, 2, 0, 1, 1, 2, 0, 1, 0, 1, 1), (1, 1, 0, 3, 2, 0, 1, 1, 2, 0, 1, 0, 1, 1, 0), (1, 1, 0, 3, 2, 0, 1, 1, 2, 0, 1, 0, 1, 1, 0, 0), (1, 1, 0, 3, 2, 0, 1, 1, 2, 0, 1, 0, 1, 1, 0, 0, 0), (1, 1, 0, 3, 2, 0, 1, 1, 2, 0, 1, 0, 1, 1, 0, 0, 0, 0), (1, 1, 0, 3, 2, 0, 1, 1, 2, 0, 1, 0, 1, 1, 0, 1), (1, 1, 0, 3, 2, 0, 1, 1, 2, 0, 1, 0, 1, 1, 0, 1, 0), (1, 1, 0, 3, 2, 0, 1, 1, 2, 0, 1, 0, 1, 1, 0, 1, 0, 0), (1, 1, 0, 3, 2, 0, 1, 1, 2, 0, 1, 0, 1, 1, 0, 1, 1), (1, 1, 0, 3, 2, 0, 1, 1, 2, 0, 1, 0, 1, 1, 0, 1, 1, 0), (1, 1, 0, 3, 2, 0, 1, 1, 2, 0, 1, 0, 1, 1, 0, 1, 1, 0, 0), (1, 1, 0, 3, 2, 0, 1, 1, 2, 0, 1, 0, 1, 1, 0, 2), (1, 1, 0, 3, 2, 0, 1, 1, 2, 0, 1, 0, 1, 1, 0, 2, 0), (1, 1, 0, 3, 2, 0, 1, 1, 2, 0, 1, 0, 1, 1, 0, 2, 0, 0), (1, 1, 0, 3, 2, 0, 1, 1, 2, 0, 1, 0, 1, 1, 1), (1, 1, 0, 3, 2, 0, 1, 1, 2, 0, 1, 0, 1, 1, 1, 0), (1, 1, 0, 3, 2, 0, 1, 1, 2, 0, 1, 0, 1, 1, 1, 0, 0), (1, 1, 0, 3, 2, 0, 1, 1, 2, 0, 1, 0, 1, 1, 1, 0, 0, 0), (1, 1, 0, 3, 2, 0, 1, 1, 2, 0, 1, 0, 1, 1, 1, 0, 0, 0, 0), (1, 1, 0, 3, 2, 0, 1, 1, 2, 0, 1, 0, 1, 1, 1, 0, 1), (1, 1, 0, 3, 2, 0, 1, 1, 2, 0, 1, 0, 1, 1, 1, 0, 1, 0), (1, 1, 0, 3, 2, 0, 1, 1, 2, 0, 1, 0, 1, 1, 1, 0, 1, 0, 0), (1, 1, 0, 3, 2, 0, 1, 1, 2, 0, 1, 0, 1, 1, 1, 0, 1, 1), (1, 1, 0, 3, 2, 0, 1, 1, 2, 0, 1, 0, 1, 1, 1, 0, 1, 1, 0), (1, 1, 0, 3, 2, 0, 1, 1, 2, 0, 1, 0, 1, 1, 1, 0, 1, 1, 0, 0), (1, 1, 0, 3, 2, 0, 1, 1, 2, 0, 1, 0, 1, 1, 1, 0, 1, 1, 0, 0, 0), (1, 1, 0, 3, 2, 0, 1, 1, 2, 0, 1, 0, 1, 1, 1, 0, 1, 1, 0, 1), (1, 1, 0, 3, 2, 0, 1, 1, 2, 0, 1, 0, 1, 1, 1, 0, 1, 1, 0, 1, 0), (1, 1, 0, 3, 2, 0, 1, 1, 2, 0, 1, 0, 1, 1, 1, 0, 1, 1, 0, 1, 0, 0), (1, 1, 0, 3, 2, 0, 1, 1, 2, 0, 1, 1), (1, 1, 0, 3, 2, 0, 1, 1, 2, 0, 1, 1, 0), (1, 1, 0, 3, 2, 0, 1, 1, 2, 0, 1, 1, 0, 0), (1, 1, 0, 3, 2, 0, 1, 1, 2, 0, 1, 1, 1), (1, 1, 0, 3, 2, 0, 1, 1, 2, 0, 1, 1, 1, 0), (1, 1, 0, 3, 2, 0, 1, 1, 2, 0, 1, 1, 1, 0, 0), (1, 1, 1), (1, 1, 1, 0), (1, 1, 1, 0, 0), (1, 1, 1, 1), (1, 1, 1, 1, 0), (1, 1, 1, 1, 0, 0), (1, 1, 1, 2), (1, 1, 1, 2, 0), (1, 1, 1, 2, 0, 0), (1, 1, 1, 2, 0, 0, 0), (1, 1, 1, 2, 0, 0, 0, 0), (1, 1, 1, 2, 0, 0, 1), (1, 1, 1, 2, 0, 0, 1, 0), (1, 1, 1, 2, 0, 0, 2), (1, 1, 1, 2, 0, 0, 2, 0), (1, 1, 1, 2, 1), (1, 1, 1, 2, 1, 0), (1, 1, 1, 2, 1, 0, 0)]\n",
      "------------------------------------------------------------------------------------------------------------------------\n",
      "畫出tree來:\n",
      "                                                                                                                                                  FRAG                                                                                                                                                                                          \n",
      "                              _____________________________________________________________________________________________________________________|________________________________                                                                                                                                                             \n",
      "                             |                                                                                                                                                     SBAR                                                                                                                                                         \n",
      "                             |                                         _____________________________________________________________________________________________________________|________                                                                                                                                                    \n",
      "                             |                                        |                                                                                                                      S                                                                                                                                                  \n",
      "                             |                                        |                                                                                                      ________________|_______________________________________________________________________________________________________________________________                    \n",
      "                             |                                        |                                                                                                     S                                                                                                                                                |                  \n",
      "                             |                                        |    _________________________________________________________________________________________________|___                                                                                                                                             |                   \n",
      "                             NP                                       |   |   |   |                                                                                             VP                                                                                                                                           |                  \n",
      "                          ___|________________________________        |   |   |   |    _________________________________________________________________________________________|___                                                                                                                                         |                   \n",
      "                         NP                                   |       |   |   |   |   |   |                                                                                         S                                                                                                                                        |                  \n",
      "  _______________________|___                                 |       |   |   |   |   |   |                                                                                         |                                                                                                                                        |                   \n",
      " |                          SBAR                              |       |   |   |   |   |   |                                                                                        SBAR                                                                                                                                      |                  \n",
      " |                           |                                |       |   |   |   |   |   |    _____________________________________________________________________________________|________                                                                                                                                |                   \n",
      " |                           S                                |       |   |   |   |   |   |   |                                                                                              S                                                                                                                               |                  \n",
      " |                           |                                |       |   |   |   |   |   |   |            __________________________________________________________________________________|_______________________________                                                                                                |                   \n",
      " |                           VP                               |       |   |   |   |   |   |   |           |                                                                                                                  VP                                                                                              |                  \n",
      " |                           |                                |       |   |   |   |   |   |   |           |                                                                                                           _______|________________                                                                               |                   \n",
      " |                           NP                               |       |   |   |   |   |   |   |           |                                                                                                          |   |                    S                                                                              |                  \n",
      " |                        ___|________________________        |       |   |   |   |   |   |   |           |                                                                                                          |   |                    |                                                                              |                   \n",
      " |                       NP                           |       |       |   |   |   |   |   |   |           S                                                                                                          |   |                   SBAR                                                                            |                  \n",
      " |    ___________________|___                         |       |       |   |   |   |   |   |   |    _______|___________                                                                                               |   |    ________________|_________________________                                                     |                   \n",
      " |   |                      SBAR                      |       |       |   |   |   |   |   |   |   |   |   |           VP                                                                                             |   |   |                                          S                                                    |                  \n",
      " |   |                       |                        |       |       |   |   |   |   |   |   |   |   |   |    _______|_______________                                                                               |   |   |                                   _______|____________________________________                |                   \n",
      " |   |                       S                        |       |       |   |   |   |   |   |   |   |   |   |   |   |                   S                                                                              |   |   |                                  NP                                           |               |                  \n",
      " |   |                       |                        |       |       |   |   |   |   |   |   |   |   |   |   |   |                   |                                                                              |   |   |        __________________________|_______                                     |               |                   \n",
      " |   |                       VP                       |       |       |   |   |   |   |   |   |   |   |   |   |   |                  SBAR                                                                            |   |   |       |                                  PP                                   |               |                  \n",
      " |   |                       |                        |       |       |   |   |   |   |   |   |   |   |   |   |   |    _______________|_____________________                                                         |   |   |       |              ____________________|___                                 |               |                   \n",
      " |   |                       NP                       |       |       |   |   |   |   |   |   |   |   |   |   |   |   |                                     S                                                        |   |   |       |             |                        NP                               |               |                  \n",
      " |   |                    ___|____________________    |       |       |   |   |   |   |   |   |   |   |   |   |   |   |                         ____________|________________________________                        |   |   |       |             |             ___________|___________                     |               |                   \n",
      " |   |                   NP                       |   |       |       |   |   |   |   |   |   |   |   |   |   |   |   |                        S                                             |                       |   |   |       |             |            |                      SBAR                  |               |                  \n",
      " |   |    _______________|___                     |   |       |       |   |   |   |   |   |   |   |   |   |   |   |   |    ____________________|___                                          |                       |   |   |       |             |            |                       |                    |               |                   \n",
      " |   |   |                   VP                   |   |       |       |   |   |   |   |   |   |   |   |   |   |   |   |   |   |   |                VP                                        VP                      |   |   |       |             |            |                      FRAG                  |               |                  \n",
      " |   |   |    _______________|________            |   |       |       |   |   |   |   |   |   |   |   |   |   |   |   |   |   |   |    ____________|________                 ________________|_______                |   |   |       |             |            |                _______|____                |               |                   \n",
      " |   |   |   |                        NP          |   |       |       |   |   |   |   |   |   |   |   |   |   |   |   |   |   |   |   |    |                NP              |   |                    NP              |   |   |       |             |            |               |            VP              |               VP                 \n",
      " |   |   |   |                ________|_______    |   |       |       |   |   |   |   |   |   |   |   |   |   |   |   |   |   |   |   |    |             ___|___________    |   |                 ___|___________    |   |   |       |             |            |               |    ________|___            |        _______|________           \n",
      " |   |   |   |               NP               |   |   |       |       |   |   |   |   |   |   |   |   |   |   |   |   |   |   |   |   |    |            NP              |   |   |                NP              |   |   |   |       NP            |            NP              |   |            S           |       |   |            NP        \n",
      " |   |   |   |        _______|____________    |   |   |       |       |   |   |   |   |   |   |   |   |   |   |   |   |   |   |   |   |    |        ____|_______        |   |   |         _______|_______        |   |   |   |       |             |        ____|___________    |   |            |           |       |   |        ____|_______   \n",
      " |   |   |   |       |            PP      |   |   |   |       PP      |   |   |   |   |   |   |   |   |   |   |   |   |   |   |   |   |    |       NP           PP      |   |   |        PP              PP      |   |   |   |      FRAG           NP      |        PP      |   |   |            VP          VP      |   |       NP           | \n",
      " |   |   |   |       |        ____|___    |   |   |   |    ___|___    |   |   |   |   |   |   |   |   |   |   |   |   |   |   |   |   |    |       |         ___|___    |   |   |    ____|___         ___|___    |   |   |   |    ___|____     ____|___    |     ___|___    |   |   |         ___|___     ___|___    |   |       |            |  \n",
      " NP  NP  NP  |       NP      |        X   X   X   X   X   |       X   X   X   X   NP  |   X   X   X   X   NP  |   X   X   X   X   NP  |    X       QP       |       X   X   |   X   |        X       |       X   X   |   X   X   X        NP  NP       X   NP   |       X   X   X   |        |       NP  |       NP  |   X       QP           NP\n",
      " |   |   |   |    ___|___    |        |   |   |   |   |   |       |   |   |   |   |   |   |   |   |   |   |   |   |   |   |   |   |   |    |    ___|____    |       |   |   |   |   |        |       |       |   |   |   |   |   |        |   |        |   |    |       |   |   |   |        |       |   |       |   |   |    ___|________    |  \n",
      " CD  CD  CD  NN  CD      CD SYM      SYM SYM SYM SYM SYM SYM     SYM SYM SYM SYM SYM SYM SYM SYM SYM SYM SYM SYM SYM SYM SYM SYM SYM SYM  SYM SYM  CD   CD SYM     SYM SYM SYM SYM SYM      SYM     SYM     SYM SYM SYM SYM SYM SYM       CD  CD      SYM SYM  SYM     SYM SYM SYM SYM      SYM      CD SYM      CD SYM SYM SYM  CD       CD  NN\n",
      " |   |   |   |   |       |   |        |   |   |   |   |   |       |   |   |   |   |   |   |   |   |   |   |   |   |   |   |   |   |   |    |   |   |    |   |       |   |   |   |   |        |       |       |   |   |   |   |   |        |   |        |   |    |       |   |   |   |        |       |   |       |   |   |   |   |        |   |  \n",
      "台北市  政府 工务局  卫生 下水道     工程处  前        科长 吴锦堂  ，   利用 下水道  整治      、   沥青  舖   设   工程  索贿  ，   过程  中   ，   吴嫌  贿款  少   ，   竟   呛   厂商  「    我   是   8    职等  的       科长  」   、   「   随时       抽料      让       材料 不过关  」   ，   共   索贿       42  万元       ，  高等法院  今依      贪污  治罪  条例  重判       吴       15  年       6   月   重罪  、  褫夺公权      4   年 \n",
      "\n",
      "------------------------------------------------------------------------------------------------------------------------\n",
      "用文字的方式來表達tree:\n",
      "(FRAG (NP (NP (NP (CD 台北市)) (SBAR (S (VP (NP (NP (NP (CD 政府)) (SBAR (S (VP (NP (NP (NP (CD 工务局)) (VP (NN 卫生) (NP (NP (NP (CD 下水道) (CD 工程处)) (PP (SYM 前) (X (SYM 科长))) (X (SYM 吴锦堂))) (X (SYM ，))))) (X (SYM 利用))))))) (X (SYM 下水道))))))) (PP (SYM 整治) (X (SYM 、)))) (SBAR (X (SYM 沥青)) (S (S (X (SYM 舖)) (X (SYM 设)) (NP (SYM 工程)) (VP (SYM 索贿) (X (SYM ，)) (S (SBAR (X (SYM 过程)) (S (S (X (SYM 中)) (X (SYM ，)) (NP (SYM 吴嫌)) (VP (SYM 贿款) (X (SYM 少)) (S (SBAR (X (SYM ，)) (S (S (X (SYM 竟)) (X (SYM 呛)) (NP (SYM 厂商)) (VP (SYM 「) (X (SYM 我)) (NP (NP (NP (QP (SYM 是) (CD 8) (CD 职等))) (PP (SYM 的) (X (SYM 科长)))) (X (SYM 」))))) (VP (SYM 、) (X (SYM 「)) (NP (NP (PP (SYM 随时) (X (SYM 抽料))) (PP (SYM 让) (X (SYM 材料)))) (X (SYM 不过关))))))))) (VP (SYM 」) (X (SYM ，)) (S (SBAR (X (SYM 共)) (S (NP (NP (FRAG (X (SYM 索贿)) (NP (CD 42)))) (PP (NP (NP (CD 万元)) (X (SYM ，))) (NP (NP (NP (SYM 高等法院)) (PP (SYM 今依) (X (SYM 贪污))) (X (SYM 治罪))) (SBAR (FRAG (X (SYM 条例)) (VP (SYM 重判) (S (VP (SYM 吴) (NP (CD 15)))))))))) (VP (SYM 年) (NP (CD 6)))))))))))) (VP (SYM 月) (X (SYM 重罪)) (NP (NP (QP (SYM 、) (CD 褫夺公权) (CD 4))) (NP (NN 年)))))))\n",
      "------------------------------------------------------------------------------------------------------------------------\n",
      "用內建的畫圖方式畫出tree，會跳出新視窗\n"
     ]
    }
   ],
   "source": [
    "from nltk.parse import CoreNLPParser\n",
    "import jieba\n",
    "from opencc import OpenCC\n",
    "parser = CoreNLPParser(url='http://localhost:9000', tagtype = 'pos')\n",
    "to_convert=\"台北市政府工務局衛生下水道工程處前科長吳錦堂，利用下水道整治、瀝青舖設工程索賄，過程中，吳嫌賄款少，竟嗆廠商「我是8職等的科長」、「隨時抽料讓材料不過關」，共索賄42萬元，高等法院今依貪污治罪條例重判吳15年6月重罪、褫奪公權4年\"\n",
    "cc = OpenCC('t2s')  # (Optional )convert from Simplified Chinese to Traditional Chinese\n",
    "content = cc.convert(to_convert)#一樣轉成簡體字，這樣Stanford的系統才會比較準確\n",
    "\n",
    "word_list = list(jieba.cut(content, cut_all=False))\n",
    "tree_list = parser.parse(word_list)\n",
    "\n",
    "\n",
    "for trees in tree_list:\n",
    "    for tree in trees:\n",
    "        \n",
    "        print('取得tree的label:')\n",
    "        print(tree.treepositions())\n",
    "        print(\"-\"*120)\n",
    "        \n",
    "        print('畫出tree來:')\n",
    "        tree.pretty_print()\n",
    "        print(\"-\"*120)\n",
    "        \n",
    "        print('用文字的方式來表達tree:')\n",
    "        parse_string = ' '.join(str(tree).split()) \n",
    "        print(parse_string)\n",
    "        print(\"-\"*120)\n",
    "        \n",
    "        print('用內建的畫圖方式畫出tree，會跳出新視窗')\n",
    "        tree.draw()"
   ]
  },
  {
   "cell_type": "code",
   "execution_count": null,
   "metadata": {},
   "outputs": [],
   "source": []
  }
 ],
 "metadata": {
  "kernelspec": {
   "display_name": "Python 3",
   "language": "python",
   "name": "python3"
  },
  "language_info": {
   "codemirror_mode": {
    "name": "ipython",
    "version": 3
   },
   "file_extension": ".py",
   "mimetype": "text/x-python",
   "name": "python",
   "nbconvert_exporter": "python",
   "pygments_lexer": "ipython3",
   "version": "3.6.8"
  }
 },
 "nbformat": 4,
 "nbformat_minor": 2
}
